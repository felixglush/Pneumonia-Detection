{
 "cells": [
  {
   "cell_type": "code",
   "execution_count": 4,
   "metadata": {},
   "outputs": [
    {
     "name": "stderr",
     "output_type": "stream",
     "text": [
      "Using TensorFlow backend.\n"
     ]
    }
   ],
   "source": [
    "import numpy as np\n",
    "import pandas as pd\n",
    "import pydicom\n",
    "%matplotlib inline\n",
    "import matplotlib.pyplot as plt\n",
    "import keras\n",
    "from keras.applications.vgg16 import preprocess_input as vgg16_preproc\n",
    "from skimage.transform import resize\n",
    "from keras.models import model_from_json"
   ]
  },
  {
   "cell_type": "code",
   "execution_count": 16,
   "metadata": {},
   "outputs": [],
   "source": [
    "# This function reads in a .dcm file, checks the important fields for our device, and returns a numpy array\n",
    "# of just the imaging data\n",
    "def check_dicom(filename):  \n",
    "    print('Load file {} ...'.format(filename))\n",
    "    ds = pydicom.dcmread(filename)\n",
    "    \n",
    "    if ds.Modality != 'DX':\n",
    "        print(f'Image rejected. Reason: modality is {ds.Modality}.\\n')\n",
    "        return None, ds.StudyDescription\n",
    "    \n",
    "    if ds.BodyPartExamined != 'CHEST':\n",
    "        print(f'Image rejected. Reason: body part is {ds.BodyPartExamined}\\n')\n",
    "        return None, ds.StudyDescription\n",
    "    \n",
    "    if ds.PatientPosition not in ['AP', 'PA']:\n",
    "        print(f'Image rejected. Reason: position is {ds.PatientPosition}.\\n' )\n",
    "        return None, ds.StudyDescription\n",
    "    \n",
    "    img = ds.pixel_array\n",
    "    return img, ds.StudyDescription\n",
    "    \n",
    "# This function takes the numpy array output by check_dicom and \n",
    "# runs the appropriate pre-processing needed for our model input\n",
    "def preprocess_image(img, img_mean, img_std, img_size): \n",
    "    proc_img = img / 255.0\n",
    "    proc_img = resize(proc_img, (img_size[1], img_size[2]), anti_aliasing=False)\n",
    "    proc_img = proc_img.reshape((img_size[0], img_size[1], img_size[2], 1))\n",
    "    proc_img = np.repeat(proc_img, img_size[3], axis=3)\n",
    "    proc_img = vgg16_preproc(proc_img)\n",
    "    return proc_img\n",
    "\n",
    "# This function loads in our trained model w/ weights and compiles it \n",
    "def load_model(model_path, weight_path):\n",
    "    json_file = open(model_path, 'r')\n",
    "    model_json = json_file.read()\n",
    "    json_file.close()\n",
    "    model = model_from_json(model_json)\n",
    "    model.load_weights(weight_path)   \n",
    "    #model = model.compile(loss='binary_crossentropy', optimizer='adam', metrics=['binary_accuracy'])\n",
    "    return model\n",
    "\n",
    "# This function uses our device's threshold parameters to predict whether or not\n",
    "# the image shows the presence of pneumonia using our trained model\n",
    "def predict_image(model, img, thresh): \n",
    "    prob = model.predict(img)\n",
    "    pred= prob > thresh\n",
    "    return pred[0][0]"
   ]
  },
  {
   "cell_type": "code",
   "execution_count": 17,
   "metadata": {},
   "outputs": [
    {
     "name": "stdout",
     "output_type": "stream",
     "text": [
      "Load file test1.dcm ...\n",
      "Prediction: No pneumonia\n",
      "Actual: No Finding\n",
      "\n",
      "Load file test2.dcm ...\n",
      "Prediction: No pneumonia\n",
      "Actual: Cardiomegaly\n",
      "\n",
      "Load file test3.dcm ...\n",
      "Prediction: No pneumonia\n",
      "Actual: Effusion\n",
      "\n",
      "Load file test4.dcm ...\n",
      "Image rejected. Reason: body part is RIBCAGE\n",
      "\n",
      "Load file test5.dcm ...\n",
      "Image rejected. Reason: modality is CT.\n",
      "\n",
      "Load file test6.dcm ...\n",
      "Image rejected. Reason: position is XX.\n",
      "\n"
     ]
    }
   ],
   "source": [
    "test_dicoms = ['test1.dcm','test2.dcm','test3.dcm','test4.dcm','test5.dcm','test6.dcm']\n",
    "\n",
    "model_path = 'model_vgg.json'\n",
    "weight_path = 'xray_class_my_model_vgg.best1.hdf5'\n",
    "\n",
    "IMG_SIZE=(1,224,224,3) # This might be different if you did not use vgg16\n",
    "img_mean = -1 # loads the mean image value they used during training preprocessing\n",
    "img_std = -1 # loads the std dev image value they used during training preprocessing\n",
    "\n",
    "my_model = load_model(model_path, weight_path) #loads model\n",
    "thresh = 0.39 \n",
    "\n",
    "# use the .dcm files to test your prediction\n",
    "for i in test_dicoms:\n",
    "    \n",
    "    img = np.array([])\n",
    "    img, study_description = check_dicom(i)\n",
    "    if img is None:\n",
    "        continue\n",
    "        \n",
    "    img_proc = preprocess_image(img,img_mean,img_std,IMG_SIZE)\n",
    "    pred = predict_image(my_model, img_proc, thresh)\n",
    "    print(f'Prediction: {\"No pneumonia\" if pred == False else \"Pneumonia\"}')\n",
    "    print(f'Actual: {study_description}\\n')\n",
    "    "
   ]
  }
 ],
 "metadata": {
  "kernelspec": {
   "display_name": "Python 3",
   "language": "python",
   "name": "python3"
  },
  "language_info": {
   "codemirror_mode": {
    "name": "ipython",
    "version": 3
   },
   "file_extension": ".py",
   "mimetype": "text/x-python",
   "name": "python",
   "nbconvert_exporter": "python",
   "pygments_lexer": "ipython3",
   "version": "3.8.2"
  }
 },
 "nbformat": 4,
 "nbformat_minor": 2
}
